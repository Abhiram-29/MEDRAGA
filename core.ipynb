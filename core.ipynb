{
 "cells": [
  {
   "cell_type": "code",
   "execution_count": 17,
   "id": "36b92189-8525-408e-bacf-ab73fb3c3aca",
   "metadata": {
    "execution": {
     "iopub.execute_input": "2024-08-12T15:24:33.015531Z",
     "iopub.status.busy": "2024-08-12T15:24:33.015011Z",
     "iopub.status.idle": "2024-08-12T15:24:33.022264Z",
     "shell.execute_reply": "2024-08-12T15:24:33.021255Z",
     "shell.execute_reply.started": "2024-08-12T15:24:33.015531Z"
    }
   },
   "outputs": [
    {
     "data": {
      "text/plain": [
       "True"
      ]
     },
     "execution_count": 17,
     "metadata": {},
     "output_type": "execute_result"
    }
   ],
   "source": [
    "import os\n",
    "from dotenv import load_dotenv\n",
    "from llama_index.llms.groq import Groq\n",
    "from llama_index.core.llms import ChatMessage\n",
    "load_dotenv()"
   ]
  },
  {
   "cell_type": "code",
   "execution_count": 11,
   "id": "ab51042e-2663-428a-adc8-18107887829c",
   "metadata": {},
   "outputs": [],
   "source": [
    "llm = Groq(model='mixtral-8x7b-32768')"
   ]
  },
  {
   "cell_type": "code",
   "execution_count": 18,
   "id": "a6a606d9-f779-4bd6-9ea2-ee194a5743a9",
   "metadata": {
    "execution": {
     "iopub.execute_input": "2024-08-12T15:25:28.573910Z",
     "iopub.status.busy": "2024-08-12T15:25:28.573405Z",
     "iopub.status.idle": "2024-08-12T15:25:28.578241Z",
     "shell.execute_reply": "2024-08-12T15:25:28.577711Z",
     "shell.execute_reply.started": "2024-08-12T15:25:28.573910Z"
    }
   },
   "outputs": [],
   "source": [
    "messages = [\n",
    "    ChatMessage(\n",
    "        role=\"system\", content=\"You are a pirate with a colorful personality\"\n",
    "    ),\n",
    "    ChatMessage(role=\"user\", content=\"What is your name\"),\n",
    "]"
   ]
  },
  {
   "cell_type": "code",
   "execution_count": 25,
   "id": "1ffb7958-8e34-4af5-9033-fc44f497653f",
   "metadata": {
    "execution": {
     "iopub.execute_input": "2024-08-12T15:27:40.710811Z",
     "iopub.status.busy": "2024-08-12T15:27:40.710811Z",
     "iopub.status.idle": "2024-08-12T15:27:40.716213Z",
     "shell.execute_reply": "2024-08-12T15:27:40.715206Z",
     "shell.execute_reply.started": "2024-08-12T15:27:40.710811Z"
    }
   },
   "outputs": [],
   "source": [
    "resp = llm.stream_chat(messages)"
   ]
  },
  {
   "cell_type": "code",
   "execution_count": 27,
   "id": "31329d4b-b4f6-46cc-a796-50eeb05215ed",
   "metadata": {
    "execution": {
     "iopub.execute_input": "2024-08-12T15:29:26.744723Z",
     "iopub.status.busy": "2024-08-12T15:29:26.743746Z",
     "iopub.status.idle": "2024-08-12T15:29:26.749738Z",
     "shell.execute_reply": "2024-08-12T15:29:26.748731Z",
     "shell.execute_reply.started": "2024-08-12T15:29:26.744723Z"
    }
   },
   "outputs": [],
   "source": [
    "# This is for chat streaming find out how to use it with api \n",
    "for r in resp:\n",
    "    print(r.delta, end=\"\")"
   ]
  },
  {
   "cell_type": "code",
   "execution_count": null,
   "id": "bfb0deb3-14b5-4ac4-a5a7-c97a82559153",
   "metadata": {},
   "outputs": [],
   "source": []
  }
 ],
 "metadata": {
  "kernelspec": {
   "display_name": "Python 3 (ipykernel)",
   "language": "python",
   "name": "python3"
  },
  "language_info": {
   "codemirror_mode": {
    "name": "ipython",
    "version": 3
   },
   "file_extension": ".py",
   "mimetype": "text/x-python",
   "name": "python",
   "nbconvert_exporter": "python",
   "pygments_lexer": "ipython3",
   "version": "3.11.4"
  }
 },
 "nbformat": 4,
 "nbformat_minor": 5
}
