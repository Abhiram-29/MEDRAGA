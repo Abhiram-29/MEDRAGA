{
 "cells": [
  {
   "cell_type": "code",
   "execution_count": 7,
   "id": "ddb2a9d5-63e2-4106-ba34-fc0eb197b26b",
   "metadata": {},
   "outputs": [],
   "source": [
    "import pathlib\n",
    "import textwrap\n",
    "\n",
    "import google.generativeai as genai\n",
    "\n",
    "from IPython.display import display\n",
    "from IPython.display import Markdown\n",
    "\n",
    "\n",
    "def to_markdown(text):\n",
    "  text = text.replace('•', '  *')\n",
    "  return Markdown(textwrap.indent(text, '> ', predicate=lambda _: True))\n"
   ]
  },
  {
   "cell_type": "code",
   "execution_count": 6,
   "id": "679f1fbb-aea9-4108-9986-b2e1de46f4d1",
   "metadata": {},
   "outputs": [],
   "source": [
    "import os\n",
    "os.environ[\"COHERE_API_KEY\"]\n",
    "os.environ[\"GOOGLE_API_KEY\"]\n"
   ]
  },
  {
   "cell_type": "code",
   "execution_count": 8,
   "id": "4e313584-32fa-4844-bab1-7a851ba8be3c",
   "metadata": {},
   "outputs": [],
   "source": [
    "from langchain_cohere import ChatCohere\n",
    "\n",
    "llm = ChatCohere()"
   ]
  },
  {
   "cell_type": "code",
   "execution_count": 12,
   "id": "49ac0ea5-7715-4b72-ba8f-10d367599f8d",
   "metadata": {},
   "outputs": [],
   "source": [
    "GOOGLE_API_KEY=os.getenv('GOOGLE_API_KEY')\n",
    "\n",
    "genai.configure(api_key=GOOGLE_API_KEY)\n"
   ]
  },
  {
   "cell_type": "code",
   "execution_count": 13,
   "id": "41ecf622-074a-4122-bd57-df9070b6e0b7",
   "metadata": {},
   "outputs": [
    {
     "name": "stdout",
     "output_type": "stream",
     "text": [
      "models/gemini-1.0-pro\n",
      "models/gemini-1.0-pro-001\n",
      "models/gemini-1.0-pro-latest\n",
      "models/gemini-1.0-pro-vision-latest\n",
      "models/gemini-1.5-pro-latest\n",
      "models/gemini-pro\n",
      "models/gemini-pro-vision\n"
     ]
    }
   ],
   "source": [
    "for m in genai.list_models():\n",
    "  if 'generateContent' in m.supported_generation_methods:\n",
    "    print(m.name)\n"
   ]
  },
  {
   "cell_type": "code",
   "execution_count": 14,
   "id": "be606902-c3d5-4676-94b2-9b1c4fd966b2",
   "metadata": {},
   "outputs": [],
   "source": [
    "model = genai.GenerativeModel('gemini-1.0-pro-latest')"
   ]
  },
  {
   "cell_type": "code",
   "execution_count": 15,
   "id": "e8a45a45-77c3-4787-a2df-c2005e79442b",
   "metadata": {},
   "outputs": [
    {
     "name": "stdout",
     "output_type": "stream",
     "text": [
      "CPU times: total: 0 ns\n",
      "Wall time: 8.11 s\n"
     ]
    }
   ],
   "source": [
    "%%time\n",
    "response = model.generate_content(\"What is the meaning of life?\")"
   ]
  },
  {
   "cell_type": "code",
   "execution_count": null,
   "id": "9242bad9-a4c2-4f4e-a232-bc3e6ee4ca5f",
   "metadata": {},
   "outputs": [],
   "source": [
    "to_markdown(response.text)"
   ]
  },
  {
   "cell_type": "code",
   "execution_count": 17,
   "id": "e593eda0-14c1-4760-a7f2-4d52d47856f2",
   "metadata": {},
   "outputs": [
    {
     "data": {
      "text/plain": [
       "ChatSession(\n",
       "    model=genai.GenerativeModel(\n",
       "        model_name='models/gemini-1.0-pro-latest',\n",
       "        generation_config={},\n",
       "        safety_settings={},\n",
       "        tools=None,\n",
       "        system_instruction=None,\n",
       "    ),\n",
       "    history=[]\n",
       ")"
      ]
     },
     "execution_count": 17,
     "metadata": {},
     "output_type": "execute_result"
    }
   ],
   "source": [
    "chat = model.start_chat(history=[])\n",
    "chat"
   ]
  },
  {
   "cell_type": "code",
   "execution_count": 20,
   "id": "1f588606-9c1a-42b1-9ddd-1f6a1d93a606",
   "metadata": {},
   "outputs": [],
   "source": [
    "response = chat.send_message(\"Summarize the above in 1 paragraph \" ) "
   ]
  },
  {
   "cell_type": "code",
   "execution_count": 21,
   "id": "8dbf646d-2647-41d1-b4d3-b2f824336661",
   "metadata": {},
   "outputs": [
    {
     "data": {
      "text/markdown": [
       "> Langchain is a decentralized language learning platform powered by blockchain technology. It creates a global marketplace where learners and teachers can connect, share resources, and earn rewards. The platform offers a variety of features, including a language learning marketplace, content sharing and collaboration, rewards and incentives, a decentralized and transparent system, language communities and events, and gamification elements. By leveraging blockchain technology, Langchain aims to foster a collaborative and rewarding language learning experience while ensuring transparency and security."
      ],
      "text/plain": [
       "<IPython.core.display.Markdown object>"
      ]
     },
     "execution_count": 21,
     "metadata": {},
     "output_type": "execute_result"
    }
   ],
   "source": [
    "to_markdown(response.text)"
   ]
  },
  {
   "cell_type": "code",
   "execution_count": 23,
   "id": "16abb4e9-1b80-4a28-9414-63518ebcf785",
   "metadata": {},
   "outputs": [
    {
     "data": {
      "text/markdown": [
       "> **user**: What is Langchain and how is it used "
      ],
      "text/plain": [
       "<IPython.core.display.Markdown object>"
      ]
     },
     "metadata": {},
     "output_type": "display_data"
    },
    {
     "data": {
      "text/markdown": [
       "> **model**: **What is Langchain?**\n",
       "> \n",
       "> Langchain is a decentralized language learning platform powered by blockchain technology. It aims to create a global marketplace where language learners and teachers can connect, share resources, and earn rewards.\n",
       "> \n",
       "> **How Langchain is Used:**\n",
       "> \n",
       "> **1. Language Learning Marketplace:**\n",
       "> \n",
       "> * Learners can search for certified language teachers, book lessons, and pay using the platform's cryptocurrency (LANG).\n",
       "> * Teachers can create profiles, set their rates, and offer various courses.\n",
       "> \n",
       "> **2. Content Sharing and Collaboration:**\n",
       "> \n",
       "> * Learners can create and share study materials, such as flashcards, quizzes, and videos.\n",
       "> * Teachers can upload their own lessons and other resources to assist learners.\n",
       "> * The platform fosters a collaborative learning environment where users can contribute and benefit from each other's knowledge.\n",
       "> \n",
       "> **3. Rewards and Incentives:**\n",
       "> \n",
       "> * Learners earn LANG tokens for completing lessons, contributing to the platform, and participating in community events.\n",
       "> * Teachers earn LANG tokens for providing high-quality lessons and supporting learners.\n",
       "> * The platform uses a reward system to incentivize active participation and foster community growth.\n",
       "> \n",
       "> **4. Decentralized and Transparent:**\n",
       "> \n",
       "> * Langchain runs on a blockchain network, ensuring transparency and security.\n",
       "> * All transactions and user data are recorded on the immutable blockchain, providing a secure and verifiable platform.\n",
       "> \n",
       "> **5. Language Communities and Events:**\n",
       "> \n",
       "> * Langchain facilitates the creation of language communities where learners and teachers can connect, organize study groups, and participate in online events.\n",
       "> * These communities provide a supportive environment for language learning and cross-cultural exchange.\n",
       "> \n",
       "> **6. Gamification and Progress Tracking:**\n",
       "> \n",
       "> * The platform integrates gamification elements to make learning more engaging and rewarding.\n",
       "> * Learners can track their progress, level up, and compete with others to stay motivated.\n",
       "> \n",
       "> **Benefits of Using Langchain:**\n",
       "> \n",
       "> * Access to a global network of language teachers and learners\n",
       "> * Convenient and affordable language learning opportunities\n",
       "> * Rewards and incentives for active participation\n",
       "> * Collaborative learning environment\n",
       "> * Decentralized and secure platform\n",
       "> * Gamified learning experience"
      ],
      "text/plain": [
       "<IPython.core.display.Markdown object>"
      ]
     },
     "metadata": {},
     "output_type": "display_data"
    },
    {
     "data": {
      "text/markdown": [
       "> **user**: Summarize the above in 1 paragraph "
      ],
      "text/plain": [
       "<IPython.core.display.Markdown object>"
      ]
     },
     "metadata": {},
     "output_type": "display_data"
    },
    {
     "data": {
      "text/markdown": [
       "> **model**: Langchain is a decentralized language learning platform powered by blockchain technology. It creates a global marketplace where learners and teachers can connect, share resources, and earn rewards. The platform offers a variety of features, including a language learning marketplace, content sharing and collaboration, rewards and incentives, a decentralized and transparent system, language communities and events, and gamification elements. By leveraging blockchain technology, Langchain aims to foster a collaborative and rewarding language learning experience while ensuring transparency and security."
      ],
      "text/plain": [
       "<IPython.core.display.Markdown object>"
      ]
     },
     "metadata": {},
     "output_type": "display_data"
    }
   ],
   "source": [
    "for message in chat.history:\n",
    "  display(to_markdown(f'**{message.role}**: {message.parts[0].text}'))\n"
   ]
  },
  {
   "cell_type": "code",
   "execution_count": 26,
   "id": "93ab8b2f-1cc5-459f-80d1-031d9f67612e",
   "metadata": {},
   "outputs": [
    {
     "data": {
      "text/plain": [
       "total_tokens: 266"
      ]
     },
     "execution_count": 26,
     "metadata": {},
     "output_type": "execute_result"
    }
   ],
   "source": [
    "model.count_tokens(string)"
   ]
  },
  {
   "cell_type": "code",
   "execution_count": null,
   "id": "cedc82b5-7575-4004-b46f-97aff1e0afc2",
   "metadata": {},
   "outputs": [],
   "source": [
    "#model generation parameters \n",
    "# response = model.generate_content(\n",
    "#     'Tell me a story about a magic backpack.',\n",
    "#     generation_config=genai.types.GenerationConfig(\n",
    "#         # Only one candidate for now.\n",
    "#         candidate_count=1,\n",
    "#         stop_sequences=['x'],\n",
    "#         max_output_tokens=20,\n",
    "#         temperature=1.0)\n",
    "# )\n"
   ]
  },
  {
   "cell_type": "code",
   "execution_count": 33,
   "id": "b8435735-12ff-4520-9fb0-44a21506eaae",
   "metadata": {},
   "outputs": [],
   "source": [
    "role = '''You are a medical assistant that specializes in providing second opinions, diagnosing complex cases \n",
    "and suggesting treatment plans. When I describe the patient details, medical context and task, give me the appropriate treatment plan \n",
    "or second opinion based on the task given by analyzing the patient details and medical context.\n",
    "'''\n",
    "model2 = genai.GenerativeModel(model_name = 'gemini-1.5-pro-latest', system_instruction = role )"
   ]
  },
  {
   "cell_type": "code",
   "execution_count": 34,
   "id": "ab33cdca-3dd7-4a50-8e99-6f7c76ab6280",
   "metadata": {},
   "outputs": [],
   "source": [
    "sample_prompt = ''' \n",
    "Patient Details : Patient Information:\n",
    "Name: Rajesh Kumar\n",
    "Age: 45\n",
    "Gender: Male\n",
    "Occupation: Office manager\n",
    "Medical History:\n",
    "Hypertension (controlled with medication)\n",
    "Previous history of lumbar strain due to heavy lifting incidents, managed conservatively\n",
    "Chief Complaint:\n",
    "Chronic back pain\n",
    "Duration: Approximately 6 months\n",
    "Symptoms:\n",
    "Dull, aching pain in the lower back, occasionally radiating down the right leg\n",
    "Exacerbated by prolonged sitting or standing, relieved by lying down\n",
    "Severity: 7/10 on average, worsening to 8/10 during flare-ups\n",
    "No associated numbness or tingling\n",
    "Impact on Daily Activities:\n",
    "Difficulty performing work duties due to prolonged sitting at a desk\n",
    "Limited ability to participate in recreational activities, such as playing sports or gardening\n",
    "Struggles with household chores, particularly activities that involve bending or lifting\n",
    "Treatment History:\n",
    "Nonsteroidal anti-inflammatory drugs (NSAIDs) for pain management, with minimal relief\n",
    "Physical therapy sessions focusing on core strengthening exercises and flexibility, providing short-term improvement but limited long-term benefits\n",
    "Occasional use of heat packs and over-the-counter topical analgesics for symptomatic relief\n",
    "Current Medications:\n",
    "Amlodipine 5 mg daily for hypertension\n",
    "Ibuprofen 400 mg as needed for back pain\n",
    "Additional Concerns:\n",
    "Rajesh is concerned about the impact of his back pain on his job performance and overall quality of life.\n",
    "He's interested in exploring alternative treatment options, such as acupuncture or chiropractic care.\n",
    "\n",
    "Medical Context : Ibuprofen is used to relieve pain from various conditions such as headache, dental pain, menstrual cramps, muscle aches, or arthritis. It is also used to reduce fever and to relieve minor aches and pain due to the common cold or flu. Ibuprofen is a nonsteroidal anti-inflammatory drug (NSAID). It works by blocking your body's production of certain natural substances that cause inflammation. This effect helps to decrease swelling, pain, or fever.If you are treating a chronic condition such as arthritis, ask your doctor about non-drug treatments and/or using other medications to treat your pain. See also Warning section.This form of ibuprofen is intended for use in children. Do not give this medication to a child younger than 2 years unless directed by the doctor.Check the ingredients on the label even if you have used the product before. The manufacturer may have changed the ingredients. Also, products with similar names may contain different ingredients meant for different purposes. Taking the wrong product could harm you.\n",
    "Amlodipine is used alone or in combination with other medications to treat high blood pressure in adults and children 6 years and older. It is also used to treat certain types of angina (chest pain) and coronary artery disease (narrowing of the blood vessels that supply blood to the heart)\n",
    "\n",
    "Task : I'm facing challenges in managing a case of chronic back pain in a patient. Despite thorough evaluation and treatment attempts, including physical therapy and medication, the pain persists. The patient experiences a constant dull ache localized to the lumbar region, limiting their mobility and affecting their quality of life. I'm seeking your expertise to explore alternative treatment strategies or diagnostic approaches that may offer relief.\n",
    "\n",
    "'''"
   ]
  },
  {
   "cell_type": "code",
   "execution_count": 35,
   "id": "b8feb086-c838-495e-86bc-916cd1ec6a12",
   "metadata": {},
   "outputs": [],
   "source": [
    "chat = model2.start_chat(history = []) "
   ]
  },
  {
   "cell_type": "code",
   "execution_count": 36,
   "id": "8ac58bc2-8f7a-48f5-94cc-41976a47b4c3",
   "metadata": {},
   "outputs": [],
   "source": [
    "response = chat.send_message(sample_prompt)"
   ]
  },
  {
   "cell_type": "code",
   "execution_count": 37,
   "id": "54ccf271-9e04-4840-9d5a-a392f5e42240",
   "metadata": {},
   "outputs": [
    {
     "data": {
      "text/markdown": [
       "> ## Exploring Alternative Approaches for Rajesh's Chronic Back Pain\n",
       "> \n",
       "> Considering Rajesh's persistent lower back pain despite initial treatment efforts, we can explore several alternative diagnostic and treatment strategies:\n",
       "> \n",
       "> **Further Diagnostic Evaluation:**\n",
       "> \n",
       "> * **MRI of the lumbar spine:** This can help visualize the soft tissues like discs, nerves, and muscles to identify specific causes like herniated discs, spinal stenosis, or facet joint issues. \n",
       "> * **X-ray of the lumbar spine:** This can rule out bone abnormalities like fractures, spondylolisthesis, or degenerative changes. \n",
       "> * **Blood tests:** These can assess for inflammatory markers or other underlying conditions contributing to the pain.\n",
       "> \n",
       "> **Alternative Treatment Options:**\n",
       "> \n",
       "> * **Epidural steroid injections:** These injections deliver steroids directly to the affected area, reducing inflammation and pain. This could offer significant short-term relief and allow for better engagement with physical therapy.\n",
       "> * **Facet joint injections:** If facet joints are suspected as a pain source, injecting steroids and numbing agents can provide diagnostic and therapeutic benefits.\n",
       "> * **Acupuncture:** This traditional Chinese medicine technique might offer pain relief by stimulating nerves and promoting the release of endorphins. \n",
       "> * **Chiropractic care:** Chiropractic adjustments could help improve spinal alignment and joint mobility, potentially alleviating pain. \n",
       "> * **Cognitive-behavioral therapy (CBT):** CBT can help manage chronic pain by teaching coping mechanisms, relaxation techniques, and pain management strategies. \n",
       "> \n",
       "> **Additional Considerations:**\n",
       "> \n",
       "> * **Review medication regimen:** Evaluate the effectiveness of current medications and explore alternatives or adjunctive pain management options like muscle relaxants or low-dose antidepressants for pain modulation. \n",
       "> * **Weight management:** If Rajesh is overweight, losing weight can reduce stress on the lower back and improve pain levels.\n",
       "> * **Ergonomic assessment:** Evaluating Rajesh's workstation and ensuring proper posture and support can minimize pain triggers during work hours.\n",
       "> \n",
       "> **Recommendation:**\n",
       "> \n",
       "> Based on the information provided, I suggest the following:\n",
       "> \n",
       "> 1. **MRI of the lumbar spine** to obtain a detailed image and identify the root cause of the pain.\n",
       "> 2. Discuss the possibility of **epidural steroid injections** with Rajesh, considering its potential for short-term pain relief and improved physical therapy engagement.\n",
       "> 3. Explore **acupuncture or chiropractic care** as complementary therapies, depending on Rajesh's preferences and the identified cause of pain.\n",
       "> 4. Consider **CBT** to equip Rajesh with coping mechanisms and pain management strategies for long-term benefit. \n",
       "> 5. **Review his medication regimen** and explore additional pain management options if needed. \n",
       "> 6. **Address ergonomic factors** at his workplace to minimize pain triggers.\n",
       "> \n",
       "> **Remember, this is a preliminary recommendation based on the information provided.  A definitive diagnosis and treatment plan should be established in consultation with a qualified healthcare professional.** They can assess Rajesh's specific situation,  review imaging results, and tailor the plan to his individual needs and preferences. \n"
      ],
      "text/plain": [
       "<IPython.core.display.Markdown object>"
      ]
     },
     "execution_count": 37,
     "metadata": {},
     "output_type": "execute_result"
    }
   ],
   "source": [
    "to_markdown(response.text)"
   ]
  },
  {
   "cell_type": "code",
   "execution_count": null,
   "id": "c895d49b-ebc7-4679-b2fd-3f04aa218a04",
   "metadata": {},
   "outputs": [],
   "source": []
  }
 ],
 "metadata": {
  "kernelspec": {
   "display_name": "Python 3 (ipykernel)",
   "language": "python",
   "name": "python3"
  },
  "language_info": {
   "codemirror_mode": {
    "name": "ipython",
    "version": 3
   },
   "file_extension": ".py",
   "mimetype": "text/x-python",
   "name": "python",
   "nbconvert_exporter": "python",
   "pygments_lexer": "ipython3",
   "version": "3.11.4"
  }
 },
 "nbformat": 4,
 "nbformat_minor": 5
}
