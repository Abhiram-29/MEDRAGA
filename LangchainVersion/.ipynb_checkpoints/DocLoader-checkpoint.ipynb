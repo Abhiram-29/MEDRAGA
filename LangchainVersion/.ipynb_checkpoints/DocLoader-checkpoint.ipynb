{
 "cells": [
  {
   "cell_type": "code",
   "execution_count": 1,
   "id": "ffd1ecb5-4238-49ae-b239-31da40e8653b",
   "metadata": {},
   "outputs": [],
   "source": [
    "from langchain_community.document_loaders import DirectoryLoader, PyPDFLoader\n",
    "loader = DirectoryLoader(path, glob=\"/*.pdf\", loader_cls=PyPDFLoader, silent_errors=True)\n",
    "pages = loader.load_and_split()"
   ]
  },
  {
   "cell_type": "code",
   "execution_count": 2,
   "id": "abc0c09e-eaf1-4725-88ad-f8778571a0d5",
   "metadata": {},
   "outputs": [],
   "source": [
    "from langchain_text_splitters import RecursiveCharacterTextSplitter\n",
    "\n",
    "text_splitter = RecursiveCharacterTextSplitter(\n",
    "    chunk_size= 1000,\n",
    "    chunk_overlap= 50 , \n",
    "    length_function= len ,\n",
    "    is_separator_regex= False\n",
    ")"
   ]
  },
  {
   "cell_type": "code",
   "execution_count": 3,
   "id": "e558103c-28ab-49aa-8696-5c3583bf6112",
   "metadata": {},
   "outputs": [],
   "source": [
    "texts = text_splitter.create_documents([pages[i].page_content for i in range(len(pages))])"
   ]
  },
  {
   "cell_type": "code",
   "execution_count": 4,
   "id": "52798a4a-00fc-4918-b330-9a03695854ec",
   "metadata": {},
   "outputs": [],
   "source": [
    "from qdrant_client import QdrantClient\n",
    "from qdrant_client.models import Distance, VectorParams\n",
    "\n",
    "client = QdrantClient(url=\"http://localhost:6333\")\n",
    "\n",
    "client.create_collection(\n",
    "    collection_name=\"MedicalPapers\",\n",
    "    vectors_config=VectorParams(size=1024, distance=Distance.DOT),\n",
    ")\n",
    "\n"
   ]
  },
  {
   "cell_type": "code",
   "execution_count": null,
   "id": "47d8708e-4ecd-488b-bef9-03ec69dbd804",
   "metadata": {},
   "outputs": [],
   "source": []
  }
 ],
 "metadata": {
  "kernelspec": {
   "display_name": "Python 3 (ipykernel)",
   "language": "python",
   "name": "python3"
  },
  "language_info": {
   "codemirror_mode": {
    "name": "ipython",
    "version": 3
   },
   "file_extension": ".py",
   "mimetype": "text/x-python",
   "name": "python",
   "nbconvert_exporter": "python",
   "pygments_lexer": "ipython3",
   "version": "3.11.4"
  }
 },
 "nbformat": 4,
 "nbformat_minor": 5
}
