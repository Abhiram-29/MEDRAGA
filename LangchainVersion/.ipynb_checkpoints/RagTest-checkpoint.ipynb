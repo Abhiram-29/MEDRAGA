{
 "cells": [
  {
   "cell_type": "code",
   "execution_count": 2,
   "id": "4a132139-6ec5-4b9b-bd76-3f65780cc414",
   "metadata": {},
   "outputs": [],
   "source": [
    "from langchain_community.document_loaders import PyPDFLoader\n",
    "\n",
    "loader = PyPDFLoader(\"testFile.pdf\")\n",
    "pages = loader.load_and_split()"
   ]
  },
  {
   "cell_type": "code",
   "execution_count": 50,
   "id": "ff058348-b8de-4fb8-98a2-414a35932543",
   "metadata": {},
   "outputs": [],
   "source": [
    "from langchain_text_splitters import RecursiveCharacterTextSplitter\n",
    "\n",
    "text_splitter = RecursiveCharacterTextSplitter(\n",
    "    chunk_size= 1000,\n",
    "    chunk_overlap= 50 , \n",
    "    length_function= len ,\n",
    "    is_separator_regex= False\n",
    ")"
   ]
  },
  {
   "cell_type": "code",
   "execution_count": 51,
   "id": "f117a0f6-f0ca-4e80-84e0-315f74900953",
   "metadata": {},
   "outputs": [],
   "source": [
    "texts = text_splitter.create_documents([pages[i].page_content for i in range(len(pages))])"
   ]
  },
  {
   "cell_type": "code",
   "execution_count": 16,
   "id": "3e9d3cf3-f526-4ae9-8ff5-0205d9097160",
   "metadata": {},
   "outputs": [],
   "source": [
    "from qdrant_client import QdrantClient\n",
    "\n",
    "client = QdrantClient(url=\"http://localhost:6333\")\n"
   ]
  },
  {
   "cell_type": "code",
   "execution_count": 52,
   "id": "fb84026a-cd95-418d-812a-cb20d816909e",
   "metadata": {},
   "outputs": [
    {
     "data": {
      "text/plain": [
       "True"
      ]
     },
     "execution_count": 52,
     "metadata": {},
     "output_type": "execute_result"
    }
   ],
   "source": [
    "from qdrant_client.models import Distance, VectorParams\n",
    "\n",
    "client.create_collection(\n",
    "    collection_name=\"MedicalPapers\",\n",
    "    vectors_config=VectorParams(size=1024, distance=Distance.DOT),\n",
    ")\n"
   ]
  },
  {
   "cell_type": "code",
   "execution_count": 53,
   "id": "5ae4626d-cbc3-48cc-b5cd-176094674ca0",
   "metadata": {},
   "outputs": [
    {
     "data": {
      "text/plain": [
       "UpdateResult(operation_id=0, status=<UpdateStatus.COMPLETED: 'completed'>)"
      ]
     },
     "execution_count": 53,
     "metadata": {},
     "output_type": "execute_result"
    }
   ],
   "source": [
    "import cohere\n",
    "import qdrant_client\n",
    "from qdrant_client.models import Batch\n",
    "\n",
    "cohere_client = cohere.Client(\"eFUHV96luEGkkcHOkuQlHu7gxocJUOwvE4jfLI9T\")\n",
    "client = qdrant_client.QdrantClient()\n",
    "client.upsert(\n",
    "    collection_name=\"MedicalPapers\",\n",
    "    points=Batch(\n",
    "        ids=range(len(texts)),\n",
    "        vectors=cohere_client.embed(\n",
    "            model=\"embed-english-v3.0\",  # New Embed v3 model\n",
    "            input_type=\"search_document\",  # Input type for indexing documents\n",
    "            texts= [texts[i].page_content for i in range(len(texts))],\n",
    "        ).embeddings,\n",
    "        payloads = [{\"Context{}\".format(index): value} for index, value in enumerate([texts[i].page_content for i in range(len(texts))], start=1)],\n",
    "    ),\n",
    ")\n"
   ]
  },
  {
   "cell_type": "code",
   "execution_count": null,
   "id": "a6a72208-aec0-44cd-bbae-849e834f9483",
   "metadata": {},
   "outputs": [],
   "source": [
    "client.search(\n",
    "    collection_name=\"MedicalPapers\",\n",
    "    query_vector=cohere_client.embed(\n",
    "        model=\"embed-english-v3.0\",  \n",
    "        input_type=\"search_query\",  # Input type for search queries\n",
    "        texts=[\"Breast Cancer\"],\n",
    "    ).embeddings[0],\n",
    ")\n"
   ]
  },
  {
   "cell_type": "code",
   "execution_count": null,
   "id": "56dd8408-e01b-4cc5-b765-dc2d4a6e45a0",
   "metadata": {},
   "outputs": [],
   "source": []
  }
 ],
 "metadata": {
  "kernelspec": {
   "display_name": "Python 3 (ipykernel)",
   "language": "python",
   "name": "python3"
  },
  "language_info": {
   "codemirror_mode": {
    "name": "ipython",
    "version": 3
   },
   "file_extension": ".py",
   "mimetype": "text/x-python",
   "name": "python",
   "nbconvert_exporter": "python",
   "pygments_lexer": "ipython3",
   "version": "3.11.4"
  }
 },
 "nbformat": 4,
 "nbformat_minor": 5
}
