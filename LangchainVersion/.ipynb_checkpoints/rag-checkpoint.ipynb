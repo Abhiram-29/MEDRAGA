{
 "cells": [
  {
   "cell_type": "code",
   "execution_count": 24,
   "id": "f6272f68-a8ad-469b-934c-7dc0702438f7",
   "metadata": {},
   "outputs": [],
   "source": [
    "import os\n",
    "\n",
    "from langchain_cohere import CohereEmbeddings , CohereRerank , ChatCohere\n",
    "import pathlib\n",
    "import textwrap\n",
    "\n",
    "import google.generativeai as genai\n",
    "\n",
    "from IPython.display import display\n",
    "from IPython.display import Markdown\n",
    "\n",
    "\n",
    "def to_markdown(text):\n",
    "  text = text.replace('•', '  *')\n",
    "  return Markdown(textwrap.indent(text, '> ', predicate=lambda _: True))\n",
    "\n",
    "import cohere\n",
    "import qdrant_client\n",
    "from qdrant_client.models import Batch\n",
    "from qdrant_client import QdrantClient\n",
    "from qdrant_client.models import Distance, VectorParams\n",
    "\n"
   ]
  },
  {
   "cell_type": "code",
   "execution_count": 17,
   "id": "af83c4a7-2a3f-4b23-9cbb-02ded848abcd",
   "metadata": {},
   "outputs": [],
   "source": [
    "from langchain_google_genai import ChatGoogleGenerativeAI\n",
    "llm = ChatGoogleGenerativeAI(model=\"gemini-1.5-pro-latest\")\n",
    "Qclient = QdrantClient(url=\"http://localhost:6333\")\n",
    "cohere_client = cohere.Client()\n",
    "client = qdrant_client.QdrantClient(os.environ[\"COHERE_API_KEY\"])"
   ]
  },
  {
   "cell_type": "code",
   "execution_count": 11,
   "id": "ee88bed3-e6be-4ceb-87c6-03e7ec1ebb56",
   "metadata": {},
   "outputs": [],
   "source": [
    "def cohereIndexing(client,collection,texts):\n",
    "    client.upsert(\n",
    "    collection_name=collection,\n",
    "    points=Batch(\n",
    "        ids=range(len(texts)),\n",
    "        vectors=cohere_client.embed(\n",
    "            model=\"embed-english-v3.0\",  # New Embed v3 model\n",
    "            input_type=\"search_document\",  # Input type for indexing documents\n",
    "            texts= [texts[i].page_content for i in range(len(texts))],\n",
    "        ).embeddings,\n",
    "        payloads = [{\"Context{}\".format(index): value} for index, value in enumerate([texts[i].page_content for i in range(len(texts))], start=1)],\n",
    "    ),\n",
    "    )"
   ]
  },
  {
   "cell_type": "code",
   "execution_count": 22,
   "id": "aff93cc3-87b0-404a-8987-03223508c6dd",
   "metadata": {},
   "outputs": [],
   "source": [
    "def cohereRetrival(collection,textList):\n",
    "    cohere_client = cohere.Client(os.environ[\"COHERE_API_KEY\"])\n",
    "    client = qdrant_client.QdrantClient()\n",
    "    result = client.search(\n",
    "    collection_name=collection,\n",
    "    query_vector=cohere_client.embed(\n",
    "        model=\"embed-english-v3.0\",  \n",
    "        input_type=\"search_query\",  # Input type for search queries\n",
    "        texts=textList,\n",
    "    ).embeddings[0],\n",
    "    )\n",
    "    return result"
   ]
  },
  {
   "cell_type": "code",
   "execution_count": 13,
   "id": "d739ba50-bb83-42f1-886c-e110ac79a841",
   "metadata": {},
   "outputs": [],
   "source": [
    "from langchain.prompts import ChatPromptTemplate\n",
    "promptTemplate = template = \"\"\"You are a medical assistant that specializes in providing second opinions, diagnosing complex cases \n",
    "and suggesting treatment plans. When I describe the patient details, medical context and task, give me the appropriate treatment plan \n",
    "or second opinion based on the task given by analyzing the patient details and medical context. In your answer include how your opinion or treatment\n",
    "plann is related to the patient's history.\n",
    "\n",
    "Patient History : {patientHistory}\n",
    "\n",
    "Medical Context : {context}\n",
    "\n",
    "Task: {question}\n",
    "\"\"\"\n",
    "prompt = ChatPromptTemplate.from_template(template)"
   ]
  },
  {
   "cell_type": "code",
   "execution_count": 16,
   "id": "07fefabc-5fc6-44b9-8017-b3ec79ddcef7",
   "metadata": {},
   "outputs": [],
   "source": [
    "chain = prompt | llm"
   ]
  },
  {
   "cell_type": "code",
   "execution_count": 25,
   "id": "607eeac3-1ca2-4bfd-955c-32bf7afdb4cc",
   "metadata": {},
   "outputs": [],
   "source": [
    "patientHistory = \"\"\"Patient Details : Patient Information:\n",
    "Name: Rajesh Kumar\n",
    "Age: 45\n",
    "Gender: Male\n",
    "Occupation: Office manager\n",
    "Medical History:\n",
    "Hypertension (controlled with medication)\n",
    "Previous history of lumbar strain due to heavy lifting incidents, managed conservatively\n",
    "Chief Complaint:\n",
    "Chronic back pain\n",
    "Duration: Approximately 6 months\n",
    "Symptoms:\n",
    "Dull, aching pain in the lower back, occasionally radiating down the right leg\n",
    "Exacerbated by prolonged sitting or standing, relieved by lying down\n",
    "Severity: 7/10 on average, worsening to 8/10 during flare-ups\n",
    "No associated numbness or tingling\n",
    "Impact on Daily Activities:\n",
    "Difficulty performing work duties due to prolonged sitting at a desk\n",
    "Limited ability to participate in recreational activities, such as playing sports or gardening\n",
    "Struggles with household chores, particularly activities that involve bending or lifting\n",
    "Treatment History:\n",
    "Nonsteroidal anti-inflammatory drugs (NSAIDs) for pain management, with minimal relief\n",
    "Physical therapy sessions focusing on core strengthening exercises and flexibility, providing short-term improvement but limited long-term benefits\n",
    "Occasional use of heat packs and over-the-counter topical analgesics for symptomatic relief\n",
    "Current Medications:\n",
    "Amlodipine 5 mg daily for hypertension\n",
    "Ibuprofen 400 mg as needed for back pain\n",
    "Additional Concerns:\n",
    "Rajesh is concerned about the impact of his back pain on his job performance and overall quality of life.\n",
    "He's interested in exploring alternative treatment options, such as acupuncture or chiropractic care.\n",
    " \"\"\"\n",
    "context = \"\"\" Ibuprofen is used to relieve pain from various conditions such as headache, dental pain, menstrual cramps, muscle aches, or arthritis. It is also used to reduce fever and to relieve minor aches and pain due to the common cold or flu. Ibuprofen is a nonsteroidal anti-inflammatory drug (NSAID). It works by blocking your body's production of certain natural substances that cause inflammation. This effect helps to decrease swelling, pain, or fever.If you are treating a chronic condition such as arthritis, ask your doctor about non-drug treatments and/or using other medications to treat your pain. See also Warning section.This form of ibuprofen is intended for use in children. Do not give this medication to a child younger than 2 years unless directed by the doctor.Check the ingredients on the label even if you have used the product before. The manufacturer may have changed the ingredients. Also, products with similar names may contain different ingredients meant for different purposes. Taking the wrong product could harm you.\n",
    "Amlodipine is used alone or in combination with other medications to treat high blood pressure in adults and children 6 years and older. It is also used to treat certain types of angina (chest pain) and coronary artery disease (narrowing of the blood vessels that supply blood to the heart) \"\"\"\n",
    "\n",
    "question = \"\"\" I'm facing challenges in managing a case of chronic back pain in a patient. Despite thorough evaluation and treatment attempts, including physical therapy and medication, the pain persists. The patient experiences a constant dull ache localized to the lumbar region, limiting their mobility and affecting their quality of life. I'm seeking your expertise to explore alternative treatment strategies or diagnostic approaches that may offer relief. \"\"\""
   ]
  },
  {
   "cell_type": "code",
   "execution_count": 26,
   "id": "4abb88e2-3ab2-432e-b9aa-2c24e7305e95",
   "metadata": {},
   "outputs": [
    {
     "data": {
      "text/markdown": [
       "> ## Second Opinion and Treatment Plan for Rajesh Kumar\n",
       "> \n",
       "> Based on the provided information, Rajesh Kumar presents with chronic lower back pain, potentially stemming from a lumbar disc issue or facet joint arthropathy, exacerbated by his occupation and past injuries. While the current treatment plan is reasonable, the limited long-term benefits necessitate exploring further options. \n",
       "> \n",
       "> **Here's my analysis and recommendations:**\n",
       "> \n",
       "> **Diagnostic Considerations:**\n",
       "> \n",
       "> * **MRI Lumbar Spine:** This will provide detailed images of the lumbar spine to rule out disc herniations, spinal stenosis, or other structural abnormalities.\n",
       "> * **Facet Joint Injection:**  If the MRI is inconclusive, this diagnostic procedure can help determine if the facet joints are the pain source.\n",
       "> \n",
       "> **Treatment Plan:**\n",
       "> \n",
       "> * **Physical Therapy Review:** \n",
       ">     * **Evaluation of current program:** Assess the effectiveness of the current exercises and ensure proper form and technique. \n",
       ">     * **Consideration of other modalities:** Explore incorporating  manual therapy,  traction, or other modalities into the program.\n",
       "> * **Medications:**\n",
       ">     * **Muscle relaxants:**  May be beneficial for short-term use during acute exacerbations.\n",
       ">     * **Neuropathic pain medications:**  If there's a neuropathic component to the pain (e.g., radiating leg pain), medications like gabapentin or pregabalin may be considered.\n",
       "> * **Interventional Pain Management:**\n",
       ">     * **Epidural Steroid Injection:**  If a disc herniation or spinal stenosis is identified, this injection can provide targeted pain relief and reduce inflammation. \n",
       ">     * **Radiofrequency Ablation:** If facet joint pain is confirmed, this procedure can provide longer-lasting pain relief by disrupting the pain signals from the affected nerves. \n",
       "> * **Complementary and Alternative Therapies:**\n",
       ">     * **Acupuncture:** As Rajesh expressed interest, this can be a safe option to explore for pain management.\n",
       ">     * **Chiropractic Care:**  May provide benefit depending on the specific diagnosis and a chiropractor's expertise.\n",
       "> \n",
       "> **Relationship to Patient History:**\n",
       "> \n",
       "> * **Previous Lumbar Strain:**  This history suggests a predisposition to back issues and highlights the importance of proper lifting techniques and core strengthening.\n",
       "> * **Hypertension:**  Some pain medications may interact with antihypertensive drugs, requiring careful medication selection and monitoring.\n",
       "> * **Occupation:**  Rajesh's desk job contributes to his pain, so ergonomic modifications and frequent breaks are crucial.\n",
       "> \n",
       "> **Additional Recommendations:**\n",
       "> \n",
       "> * **Weight Management:** If Rajesh is overweight, losing weight can reduce stress on the lower back.\n",
       "> * **Lifestyle Modifications:**  Regular low-impact exercise like walking or swimming can improve overall back health.\n",
       "> * **Stress Management:**  Stress can exacerbate pain, so techniques like meditation or yoga may be helpful.\n",
       "> \n",
       "> **Communication and Shared Decision-Making:**\n",
       "> \n",
       "> * Discuss the potential benefits and risks of each treatment option with Rajesh.\n",
       "> * Consider his preferences and goals when formulating a plan.\n",
       "> * Emphasize the importance of a multidisciplinary approach to managing chronic back pain.\n",
       "> \n",
       "> **It's important to note that this is a general recommendation, and a specific treatment plan should be individualized based on a thorough evaluation by a qualified healthcare professional.** \n"
      ],
      "text/plain": [
       "<IPython.core.display.Markdown object>"
      ]
     },
     "execution_count": 26,
     "metadata": {},
     "output_type": "execute_result"
    }
   ],
   "source": [
    "result = chain.invoke({\"context\":context , \"patientHistory\":patientHistory,\"question\":question})\n",
    "to_markdown(result.content)"
   ]
  },
  {
   "cell_type": "code",
   "execution_count": null,
   "id": "1bb8ca4f-64e6-4b52-9368-530d72b15743",
   "metadata": {},
   "outputs": [],
   "source": []
  }
 ],
 "metadata": {
  "kernelspec": {
   "display_name": "Python 3 (ipykernel)",
   "language": "python",
   "name": "python3"
  },
  "language_info": {
   "codemirror_mode": {
    "name": "ipython",
    "version": 3
   },
   "file_extension": ".py",
   "mimetype": "text/x-python",
   "name": "python",
   "nbconvert_exporter": "python",
   "pygments_lexer": "ipython3",
   "version": "3.11.4"
  }
 },
 "nbformat": 4,
 "nbformat_minor": 5
}
