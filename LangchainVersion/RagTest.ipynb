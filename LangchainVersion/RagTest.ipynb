{
 "cells": [
  {
   "cell_type": "code",
   "execution_count": 1,
   "id": "0195302e-7cd3-4e75-8f34-03e743fafb13",
   "metadata": {},
   "outputs": [],
   "source": [
    "import os\n",
    "os.environ['LANGCHAIN_PROJECT']=\"Microsoft Hackathon\""
   ]
  },
  {
   "cell_type": "code",
   "execution_count": 2,
   "id": "4a132139-6ec5-4b9b-bd76-3f65780cc414",
   "metadata": {},
   "outputs": [],
   "source": [
    "from langchain_community.document_loaders import PyPDFLoader\n",
    "\n",
    "loader = PyPDFLoader(\"testFile.pdf\")\n",
    "pages = loader.load_and_split()"
   ]
  },
  {
   "cell_type": "code",
   "execution_count": 3,
   "id": "ff058348-b8de-4fb8-98a2-414a35932543",
   "metadata": {},
   "outputs": [],
   "source": [
    "from langchain_text_splitters import RecursiveCharacterTextSplitter\n",
    "\n",
    "text_splitter = RecursiveCharacterTextSplitter(\n",
    "    chunk_size= 1000,\n",
    "    chunk_overlap= 50 , \n",
    "    length_function= len ,\n",
    "    is_separator_regex= False\n",
    ")"
   ]
  },
  {
   "cell_type": "code",
   "execution_count": 4,
   "id": "f117a0f6-f0ca-4e80-84e0-315f74900953",
   "metadata": {},
   "outputs": [],
   "source": [
    "texts = text_splitter.create_documents([pages[i].page_content for i in range(len(pages))])"
   ]
  },
  {
   "cell_type": "code",
   "execution_count": 5,
   "id": "3e9d3cf3-f526-4ae9-8ff5-0205d9097160",
   "metadata": {},
   "outputs": [],
   "source": [
    "from qdrant_client import QdrantClient\n",
    "\n",
    "client = QdrantClient(url=\"http://localhost:6333\")\n"
   ]
  },
  {
   "cell_type": "code",
   "execution_count": 6,
   "id": "fb84026a-cd95-418d-812a-cb20d816909e",
   "metadata": {},
   "outputs": [
    {
     "data": {
      "text/plain": [
       "True"
      ]
     },
     "execution_count": 6,
     "metadata": {},
     "output_type": "execute_result"
    }
   ],
   "source": [
    "from qdrant_client.models import Distance, VectorParams\n",
    "\n",
    "client.create_collection(\n",
    "    collection_name=\"MedicalPapers\",\n",
    "    vectors_config=VectorParams(size=1024, distance=Distance.DOT),\n",
    ")\n"
   ]
  },
  {
   "cell_type": "code",
   "execution_count": 7,
   "id": "5ae4626d-cbc3-48cc-b5cd-176094674ca0",
   "metadata": {},
   "outputs": [
    {
     "data": {
      "text/plain": [
       "UpdateResult(operation_id=0, status=<UpdateStatus.COMPLETED: 'completed'>)"
      ]
     },
     "execution_count": 7,
     "metadata": {},
     "output_type": "execute_result"
    }
   ],
   "source": [
    "import cohere\n",
    "import qdrant_client\n",
    "from qdrant_client.models import Batch\n",
    "\n",
    "cohere_client = cohere.Client(\"eFUHV96luEGkkcHOkuQlHu7gxocJUOwvE4jfLI9T\")\n",
    "client = qdrant_client.QdrantClient()\n",
    "client.upsert(\n",
    "    collection_name=\"MedicalPapers\",\n",
    "    points=Batch(\n",
    "        ids=range(len(texts)),\n",
    "        vectors=cohere_client.embed(\n",
    "            model=\"embed-english-v3.0\",  # New Embed v3 model\n",
    "            input_type=\"search_document\",  # Input type for indexing documents\n",
    "            texts= [texts[i].page_content for i in range(len(texts))],\n",
    "        ).embeddings,\n",
    "        payloads = [{\"Context{}\".format(index): value} for index, value in enumerate([texts[i].page_content for i in range(len(texts))], start=1)],\n",
    "    ),\n",
    ")\n"
   ]
  },
  {
   "cell_type": "code",
   "execution_count": 8,
   "id": "a6a72208-aec0-44cd-bbae-849e834f9483",
   "metadata": {},
   "outputs": [],
   "source": [
    "results = client.search(\n",
    "    collection_name=\"MedicalPapers\",\n",
    "    query_vector=cohere_client.embed(\n",
    "        model=\"embed-english-v3.0\",  \n",
    "        input_type=\"search_query\",  # Input type for search queries\n",
    "        texts=[\"Breast Cancer\"],\n",
    "    ).embeddings[0],\n",
    ")\n"
   ]
  },
  {
   "cell_type": "code",
   "execution_count": 9,
   "id": "56dd8408-e01b-4cc5-b765-dc2d4a6e45a0",
   "metadata": {},
   "outputs": [
    {
     "data": {
      "text/plain": [
       "10"
      ]
     },
     "execution_count": 9,
     "metadata": {},
     "output_type": "execute_result"
    }
   ],
   "source": [
    "len(results)"
   ]
  },
  {
   "cell_type": "code",
   "execution_count": 10,
   "id": "7a3cf59c-e14a-498d-9d03-607fbe97b794",
   "metadata": {},
   "outputs": [
    {
     "data": {
      "text/plain": [
       "ScoredPoint(id=1, version=0, score=0.46729892, payload={'Context2': 'generation. This eventually builds energetic stress and a decline in energy. Therefore, the\\nnatural cellular processes and proliferating tumor cells are obstructed. Here, we used\\nelectroporation, where, the MDA-MB-231, human TNBC cells were subjected to high intensity,\\nshort-duration electrical pulses (EP) in the presence of Metformin. The cell viability results\\nindicate lower cell viability of 43.45% as compared to 85.20% with drug alone at 5mM\\nconcentration. This indicates that Metformin, the most common diabetes drug could also be\\nexplored for cancer treatment.\\nI. I NTRODUCTION\\nTriple-Negative Breast Cancer (TNBC) is an aberrant type of breast cancer subset, with\\nthe absence of traditional biomarkersi.e.,Estrogen and progesterone receptors, and shows\\nno upregulation in HER2 protein. It is the most aggressive subset of all breast cancer types.\\nHence, making the diagnosis and treatment of TNBC is indeed challenging, and novel'}, vector=None, shard_key=None)"
      ]
     },
     "execution_count": 10,
     "metadata": {},
     "output_type": "execute_result"
    }
   ],
   "source": [
    "results[0]"
   ]
  },
  {
   "cell_type": "code",
   "execution_count": 11,
   "id": "1d0d37de-3022-4fe1-9348-f0a163e3a630",
   "metadata": {},
   "outputs": [
    {
     "data": {
      "text/plain": [
       "ChatPromptTemplate(input_variables=['context', 'patientHistory', 'question'], messages=[HumanMessagePromptTemplate(prompt=PromptTemplate(input_variables=['context', 'patientHistory', 'question'], template=\"You are a medical assistant that specializes in providing second opinions, diagnosing complex cases \\nand suggesting treatment plans. When I describe the patient details, medical context and task, give me the appropriate treatment plan \\nor second opinion based on the task given by analyzing the patient details and medical context. In your answer include how your opinion or treatment\\nplann is related to the patient's history.\\n\\nPatient History : {patientHistory}\\n\\nMedical Context : {context}\\n\\nTask: {question}\\n\"))])"
      ]
     },
     "execution_count": 11,
     "metadata": {},
     "output_type": "execute_result"
    }
   ],
   "source": [
    "from langchain.prompts import ChatPromptTemplate\n",
    "promptTemplate = template = \"\"\"You are a medical assistant that specializes in providing second opinions, diagnosing complex cases \n",
    "and suggesting treatment plans. When I describe the patient details, medical context and task, give me the appropriate treatment plan \n",
    "or second opinion based on the task given by analyzing the patient details and medical context. In your answer include how your opinion or treatment\n",
    "plann is related to the patient's history.\n",
    "\n",
    "Patient History : {patientHistory}\n",
    "\n",
    "Medical Context : {context}\n",
    "\n",
    "Task: {question}\n",
    "\"\"\"\n",
    "prompt = ChatPromptTemplate.from_template(template)\n",
    "prompt"
   ]
  },
  {
   "cell_type": "code",
   "execution_count": 12,
   "id": "2fc8dbc4-e4f0-452c-8e52-9454b95b8522",
   "metadata": {},
   "outputs": [],
   "source": [
    "from langchain_google_genai import ChatGoogleGenerativeAI\n",
    "llm = ChatGoogleGenerativeAI(model=\"gemini-pro\")"
   ]
  },
  {
   "cell_type": "code",
   "execution_count": 13,
   "id": "ec66cd96-2eb9-49ad-81af-6b1decbd00d3",
   "metadata": {},
   "outputs": [],
   "source": [
    "chain = prompt | llm "
   ]
  },
  {
   "cell_type": "code",
   "execution_count": 14,
   "id": "579e1bc9-6ec7-4f9a-a79a-5a42f2a16a50",
   "metadata": {},
   "outputs": [],
   "source": [
    "patientHistory = \"\"\"Patient Details : Patient Information:\n",
    "Name: Rajesh Kumar\n",
    "Age: 45\n",
    "Gender: Male\n",
    "Occupation: Office manager\n",
    "Medical History:\n",
    "Hypertension (controlled with medication)\n",
    "Previous history of lumbar strain due to heavy lifting incidents, managed conservatively\n",
    "Chief Complaint:\n",
    "Chronic back pain\n",
    "Duration: Approximately 6 months\n",
    "Symptoms:\n",
    "Dull, aching pain in the lower back, occasionally radiating down the right leg\n",
    "Exacerbated by prolonged sitting or standing, relieved by lying down\n",
    "Severity: 7/10 on average, worsening to 8/10 during flare-ups\n",
    "No associated numbness or tingling\n",
    "Impact on Daily Activities:\n",
    "Difficulty performing work duties due to prolonged sitting at a desk\n",
    "Limited ability to participate in recreational activities, such as playing sports or gardening\n",
    "Struggles with household chores, particularly activities that involve bending or lifting\n",
    "Treatment History:\n",
    "Nonsteroidal anti-inflammatory drugs (NSAIDs) for pain management, with minimal relief\n",
    "Physical therapy sessions focusing on core strengthening exercises and flexibility, providing short-term improvement but limited long-term benefits\n",
    "Occasional use of heat packs and over-the-counter topical analgesics for symptomatic relief\n",
    "Current Medications:\n",
    "Amlodipine 5 mg daily for hypertension\n",
    "Ibuprofen 400 mg as needed for back pain\n",
    "Additional Concerns:\n",
    "Rajesh is concerned about the impact of his back pain on his job performance and overall quality of life.\n",
    "He's interested in exploring alternative treatment options, such as acupuncture or chiropractic care.\n",
    " \"\"\"\n",
    "context = \"\"\" Ibuprofen is used to relieve pain from various conditions such as headache, dental pain, menstrual cramps, muscle aches, or arthritis. It is also used to reduce fever and to relieve minor aches and pain due to the common cold or flu. Ibuprofen is a nonsteroidal anti-inflammatory drug (NSAID). It works by blocking your body's production of certain natural substances that cause inflammation. This effect helps to decrease swelling, pain, or fever.If you are treating a chronic condition such as arthritis, ask your doctor about non-drug treatments and/or using other medications to treat your pain. See also Warning section.This form of ibuprofen is intended for use in children. Do not give this medication to a child younger than 2 years unless directed by the doctor.Check the ingredients on the label even if you have used the product before. The manufacturer may have changed the ingredients. Also, products with similar names may contain different ingredients meant for different purposes. Taking the wrong product could harm you.\n",
    "Amlodipine is used alone or in combination with other medications to treat high blood pressure in adults and children 6 years and older. It is also used to treat certain types of angina (chest pain) and coronary artery disease (narrowing of the blood vessels that supply blood to the heart) \"\"\"\n",
    "\n",
    "question = \"\"\" I'm facing challenges in managing a case of chronic back pain in a patient. Despite thorough evaluation and treatment attempts, including physical therapy and medication, the pain persists. The patient experiences a constant dull ache localized to the lumbar region, limiting their mobility and affecting their quality of life. I'm seeking your expertise to explore alternative treatment strategies or diagnostic approaches that may offer relief. \"\"\""
   ]
  },
  {
   "cell_type": "code",
   "execution_count": 1,
   "id": "0832877a-14eb-4589-9b32-06960381f82b",
   "metadata": {},
   "outputs": [],
   "source": [
    "patientHistory = \"\"\"Patient Details : Patient Information:\n",
    "Name: Rajesh Kumar\n",
    "Age: 45\n",
    "Gender: Male\n",
    "Occupation: Office manager\n",
    "Medical History:\n",
    "Hypertension (controlled with medication)\n",
    "Previous history of lumbar strain due to heavy lifting incidents, managed conservatively\n",
    "Chief Complaint:\n",
    "Chronic back pain\n",
    "Duration: Approximately 6 months\n",
    "Symptoms:\n",
    "Dull, aching pain in the lower back, occasionally radiating down the right leg\n",
    "Exacerbated by prolonged sitting or standing, relieved by lying down\n",
    "Severity: 7/10 on average, worsening to 8/10 during flare-ups\n",
    "No associated numbness or tingling\n",
    "Impact on Daily Activities:\n",
    "Difficulty performing work duties due to prolonged sitting at a desk\n",
    "Limited ability to participate in recreational activities, such as playing sports or gardening\n",
    "Struggles with household chores, particularly activities that involve bending or lifting\n",
    "Treatment History:\n",
    "Nonsteroidal anti-inflammatory drugs (NSAIDs) for pain management, with minimal relief\n",
    "Physical therapy sessions focusing on core strengthening exercises and flexibility, providing short-term improvement but limited long-term benefits\n",
    "Occasional use of heat packs and over-the-counter topical analgesics for symptomatic relief\n",
    "Current Medications:\n",
    "Amlodipine 5 mg daily for hypertension\n",
    "Ibuprofen 400 mg as needed for back pain\n",
    "Additional Concerns:\n",
    "Rajesh is concerned about the impact of his back pain on his job performance and overall quality of life.\n",
    "He's interested in exploring alternative treatment options, such as acupuncture or chiropractic care.\n",
    " \"\"\"\n",
    "context = \"\"\" Ibuprofen is used to relieve pain from various conditions such as headache, dental pain, menstrual cramps, muscle aches, or arthritis. It is also used to reduce fever and to relieve minor aches and pain due to the common cold or flu. Ibuprofen is a nonsteroidal anti-inflammatory drug (NSAID). It works by blocking your body's production of certain natural substances that cause inflammation. This effect helps to decrease swelling, pain, or fever.If you are treating a chronic condition such as arthritis, ask your doctor about non-drug treatments and/or using other medications to treat your pain. See also Warning section.This form of ibuprofen is intended for use in children. Do not give this medication to a child younger than 2 years unless directed by the doctor.Check the ingredients on the label even if you have used the product before. The manufacturer may have changed the ingredients. Also, products with similar names may contain different ingredients meant for different purposes. Taking the wrong product could harm you.\n",
    "Amlodipine is used alone or in combination with other medications to treat high blood pressure in adults and children 6 years and older. It is also used to treat certain types of angina (chest pain) and coronary artery disease (narrowing of the blood vessels that supply blood to the heart) \"\"\"\n",
    "\n",
    "question = \"\"\" I'm facing challenges in managing a case of chronic back pain in a patient. Despite thorough evaluation and treatment attempts, including physical therapy and medication, the pain persists. The patient experiences a constant dull ache localized to the lumbar region, limiting their mobility and affecting their quality of life. I'm seeking your expertise to explore alternative treatment strategies or diagnostic approaches that may offer relief. \"\"\""
   ]
  },
  {
   "cell_type": "code",
   "execution_count": 2,
   "id": "543f897e-564d-4544-87a7-fb82f837e57a",
   "metadata": {},
   "outputs": [
    {
     "ename": "NameError",
     "evalue": "name 'chain' is not defined",
     "output_type": "error",
     "traceback": [
      "\u001b[1;31m---------------------------------------------------------------------------\u001b[0m",
      "\u001b[1;31mNameError\u001b[0m                                 Traceback (most recent call last)",
      "Cell \u001b[1;32mIn[2], line 1\u001b[0m\n\u001b[1;32m----> 1\u001b[0m result \u001b[38;5;241m=\u001b[39m \u001b[43mchain\u001b[49m\u001b[38;5;241m.\u001b[39minvoke({\u001b[38;5;124m\"\u001b[39m\u001b[38;5;124mcontext\u001b[39m\u001b[38;5;124m\"\u001b[39m:context , \u001b[38;5;124m\"\u001b[39m\u001b[38;5;124mpatientHistory\u001b[39m\u001b[38;5;124m\"\u001b[39m:patientHistory,\u001b[38;5;124m\"\u001b[39m\u001b[38;5;124mquestion\u001b[39m\u001b[38;5;124m\"\u001b[39m:question})\n",
      "\u001b[1;31mNameError\u001b[0m: name 'chain' is not defined"
     ]
    }
   ],
   "source": [
    "result = chain.invoke({\"context\":context , \"patientHistory\":patientHistory,\"question\":question})"
   ]
  },
  {
   "cell_type": "code",
   "execution_count": 16,
   "id": "1b2e5efd-8323-4b5e-b2b6-1362bc10cd41",
   "metadata": {},
   "outputs": [],
   "source": [
    "import pathlib\n",
    "import textwrap\n",
    "\n",
    "import google.generativeai as genai\n",
    "\n",
    "from IPython.display import display\n",
    "from IPython.display import Markdown\n",
    "\n",
    "\n",
    "def to_markdown(text):\n",
    "  text = text.replace('•', '  *')\n",
    "  return Markdown(textwrap.indent(text, '> ', predicate=lambda _: True))\n",
    "\n",
    "def to_markdown(text):\n",
    "  text = text.replace('•', '  *')\n",
    "  return Markdown(textwrap.indent(text, '> ', predicate=lambda _: True))\n",
    "\n",
    "import langchain\n",
    "langchain.debug = True "
   ]
  },
  {
   "cell_type": "code",
   "execution_count": 17,
   "id": "3849f492-a451-42ca-9389-20f21009dac2",
   "metadata": {},
   "outputs": [
    {
     "data": {
      "text/markdown": [
       "> **Second Opinion and Treatment Plan:**\n",
       "> \n",
       "> **Alternative Treatment Options:**\n",
       "> \n",
       "> * **Acupuncture:** Acupuncture involves inserting thin needles into specific points on the body to stimulate the nervous system and release endorphins, which have pain-relieving effects.\n",
       "> * **Chiropractic Care:** Chiropractors use spinal adjustments and manipulations to improve spinal alignment, reduce nerve compression, and alleviate pain.\n",
       "> \n",
       "> **Diagnostic Approaches:**\n",
       "> \n",
       "> * **Advanced Imaging:** An MRI or CT scan can provide detailed images of the lumbar spine to identify potential structural abnormalities, such as herniated discs or spinal stenosis.\n",
       "> * **Electromyography (EMG):** This test measures the electrical activity of muscles and nerves to assess nerve function and identify any nerve damage.\n",
       "> \n",
       "> **Treatment Plan:**\n",
       "> \n",
       "> Based on the patient's history and persistent pain despite conservative treatment, the following treatment plan is recommended:\n",
       "> \n",
       "> * **Refer for Advanced Imaging:** An MRI or CT scan should be performed to rule out any underlying structural abnormalities contributing to the pain.\n",
       "> * **Consider Epidural Steroid Injection:** If advanced imaging reveals a herniated disc or other nerve compression, an epidural steroid injection can be administered to reduce inflammation and provide pain relief.\n",
       "> * **Explore Physical Therapy with a Focus on Pain Management:** Physical therapy can include techniques such as massage, ultrasound therapy, and electrotherapy to manage pain and improve mobility.\n",
       "> * **Recommend Alternative Therapies:** Acupuncture or chiropractic care may be considered as complementary therapies to alleviate pain and improve function.\n",
       "> * **Monitor Medication Use:** Ibuprofen is an NSAID and should be used cautiously due to its potential side effects, such as gastrointestinal upset and increased risk of cardiovascular events. The patient should be advised to use it as directed and only when necessary.\n",
       "> * **Consider Alternative Medications:** If NSAIDs provide inadequate pain relief, other medications such as opioids or muscle relaxants may be considered. However, these should be used with caution and under close medical supervision.\n",
       "> \n",
       "> **Relation to Patient's History:**\n",
       "> \n",
       "> This treatment plan considers the patient's history of lumbar strain, which may have contributed to the development of chronic back pain. The recommended diagnostic tests and therapies aim to address potential underlying structural abnormalities or nerve damage that may be exacerbating the pain."
      ],
      "text/plain": [
       "<IPython.core.display.Markdown object>"
      ]
     },
     "execution_count": 17,
     "metadata": {},
     "output_type": "execute_result"
    }
   ],
   "source": [
    "to_markdown(result.content)"
   ]
  },
  {
   "cell_type": "code",
   "execution_count": 19,
   "id": "7909d726-c602-44a1-8882-d26a30149e1d",
   "metadata": {},
   "outputs": [],
   "source": [
    "llm2 = ChatGoogleGenerativeAI(model=\"gemini-1.5-pro-latest\")\n",
    "chain2 = prompt|llm2"
   ]
  },
  {
   "cell_type": "code",
   "execution_count": 20,
   "id": "76949ae4-3434-4f76-a33e-9020f38911c1",
   "metadata": {},
   "outputs": [
    {
     "name": "stdout",
     "output_type": "stream",
     "text": [
      "\u001b[32;1m\u001b[1;3m[chain/start]\u001b[0m \u001b[1m[1:chain:RunnableSequence] Entering Chain run with input:\n",
      "\u001b[0m{\n",
      "  \"context\": \" Ibuprofen is used to relieve pain from various conditions such as headache, dental pain, menstrual cramps, muscle aches, or arthritis. It is also used to reduce fever and to relieve minor aches and pain due to the common cold or flu. Ibuprofen is a nonsteroidal anti-inflammatory drug (NSAID). It works by blocking your body's production of certain natural substances that cause inflammation. This effect helps to decrease swelling, pain, or fever.If you are treating a chronic condition such as arthritis, ask your doctor about non-drug treatments and/or using other medications to treat your pain. See also Warning section.This form of ibuprofen is intended for use in children. Do not give this medication to a child younger than 2 years unless directed by the doctor.Check the ingredients on the label even if you have used the product before. The manufacturer may have changed the ingredients. Also, products with similar names may contain different ingredients meant for different purposes. Taking the wrong product could harm you.\\nAmlodipine is used alone or in combination with other medications to treat high blood pressure in adults and children 6 years and older. It is also used to treat certain types of angina (chest pain) and coronary artery disease (narrowing of the blood vessels that supply blood to the heart) \",\n",
      "  \"patientHistory\": \"Patient Details : Patient Information:\\nName: Rajesh Kumar\\nAge: 45\\nGender: Male\\nOccupation: Office manager\\nMedical History:\\nHypertension (controlled with medication)\\nPrevious history of lumbar strain due to heavy lifting incidents, managed conservatively\\nChief Complaint:\\nChronic back pain\\nDuration: Approximately 6 months\\nSymptoms:\\nDull, aching pain in the lower back, occasionally radiating down the right leg\\nExacerbated by prolonged sitting or standing, relieved by lying down\\nSeverity: 7/10 on average, worsening to 8/10 during flare-ups\\nNo associated numbness or tingling\\nImpact on Daily Activities:\\nDifficulty performing work duties due to prolonged sitting at a desk\\nLimited ability to participate in recreational activities, such as playing sports or gardening\\nStruggles with household chores, particularly activities that involve bending or lifting\\nTreatment History:\\nNonsteroidal anti-inflammatory drugs (NSAIDs) for pain management, with minimal relief\\nPhysical therapy sessions focusing on core strengthening exercises and flexibility, providing short-term improvement but limited long-term benefits\\nOccasional use of heat packs and over-the-counter topical analgesics for symptomatic relief\\nCurrent Medications:\\nAmlodipine 5 mg daily for hypertension\\nIbuprofen 400 mg as needed for back pain\\nAdditional Concerns:\\nRajesh is concerned about the impact of his back pain on his job performance and overall quality of life.\\nHe's interested in exploring alternative treatment options, such as acupuncture or chiropractic care.\\n \",\n",
      "  \"question\": \" I'm facing challenges in managing a case of chronic back pain in a patient. Despite thorough evaluation and treatment attempts, including physical therapy and medication, the pain persists. The patient experiences a constant dull ache localized to the lumbar region, limiting their mobility and affecting their quality of life. I'm seeking your expertise to explore alternative treatment strategies or diagnostic approaches that may offer relief. \"\n",
      "}\n",
      "\u001b[32;1m\u001b[1;3m[chain/start]\u001b[0m \u001b[1m[1:chain:RunnableSequence > 2:prompt:ChatPromptTemplate] Entering Prompt run with input:\n",
      "\u001b[0m{\n",
      "  \"context\": \" Ibuprofen is used to relieve pain from various conditions such as headache, dental pain, menstrual cramps, muscle aches, or arthritis. It is also used to reduce fever and to relieve minor aches and pain due to the common cold or flu. Ibuprofen is a nonsteroidal anti-inflammatory drug (NSAID). It works by blocking your body's production of certain natural substances that cause inflammation. This effect helps to decrease swelling, pain, or fever.If you are treating a chronic condition such as arthritis, ask your doctor about non-drug treatments and/or using other medications to treat your pain. See also Warning section.This form of ibuprofen is intended for use in children. Do not give this medication to a child younger than 2 years unless directed by the doctor.Check the ingredients on the label even if you have used the product before. The manufacturer may have changed the ingredients. Also, products with similar names may contain different ingredients meant for different purposes. Taking the wrong product could harm you.\\nAmlodipine is used alone or in combination with other medications to treat high blood pressure in adults and children 6 years and older. It is also used to treat certain types of angina (chest pain) and coronary artery disease (narrowing of the blood vessels that supply blood to the heart) \",\n",
      "  \"patientHistory\": \"Patient Details : Patient Information:\\nName: Rajesh Kumar\\nAge: 45\\nGender: Male\\nOccupation: Office manager\\nMedical History:\\nHypertension (controlled with medication)\\nPrevious history of lumbar strain due to heavy lifting incidents, managed conservatively\\nChief Complaint:\\nChronic back pain\\nDuration: Approximately 6 months\\nSymptoms:\\nDull, aching pain in the lower back, occasionally radiating down the right leg\\nExacerbated by prolonged sitting or standing, relieved by lying down\\nSeverity: 7/10 on average, worsening to 8/10 during flare-ups\\nNo associated numbness or tingling\\nImpact on Daily Activities:\\nDifficulty performing work duties due to prolonged sitting at a desk\\nLimited ability to participate in recreational activities, such as playing sports or gardening\\nStruggles with household chores, particularly activities that involve bending or lifting\\nTreatment History:\\nNonsteroidal anti-inflammatory drugs (NSAIDs) for pain management, with minimal relief\\nPhysical therapy sessions focusing on core strengthening exercises and flexibility, providing short-term improvement but limited long-term benefits\\nOccasional use of heat packs and over-the-counter topical analgesics for symptomatic relief\\nCurrent Medications:\\nAmlodipine 5 mg daily for hypertension\\nIbuprofen 400 mg as needed for back pain\\nAdditional Concerns:\\nRajesh is concerned about the impact of his back pain on his job performance and overall quality of life.\\nHe's interested in exploring alternative treatment options, such as acupuncture or chiropractic care.\\n \",\n",
      "  \"question\": \" I'm facing challenges in managing a case of chronic back pain in a patient. Despite thorough evaluation and treatment attempts, including physical therapy and medication, the pain persists. The patient experiences a constant dull ache localized to the lumbar region, limiting their mobility and affecting their quality of life. I'm seeking your expertise to explore alternative treatment strategies or diagnostic approaches that may offer relief. \"\n",
      "}\n",
      "\u001b[36;1m\u001b[1;3m[chain/end]\u001b[0m \u001b[1m[1:chain:RunnableSequence > 2:prompt:ChatPromptTemplate] [7ms] Exiting Prompt run with output:\n",
      "\u001b[0m[outputs]\n",
      "\u001b[32;1m\u001b[1;3m[llm/start]\u001b[0m \u001b[1m[1:chain:RunnableSequence > 3:llm:ChatGoogleGenerativeAI] Entering LLM run with input:\n",
      "\u001b[0m{\n",
      "  \"prompts\": [\n",
      "    \"Human: You are a medical assistant that specializes in providing second opinions, diagnosing complex cases \\nand suggesting treatment plans. When I describe the patient details, medical context and task, give me the appropriate treatment plan \\nor second opinion based on the task given by analyzing the patient details and medical context. In your answer include how your opinion or treatment\\nplann is related to the patient's history.\\n\\nPatient History : Patient Details : Patient Information:\\nName: Rajesh Kumar\\nAge: 45\\nGender: Male\\nOccupation: Office manager\\nMedical History:\\nHypertension (controlled with medication)\\nPrevious history of lumbar strain due to heavy lifting incidents, managed conservatively\\nChief Complaint:\\nChronic back pain\\nDuration: Approximately 6 months\\nSymptoms:\\nDull, aching pain in the lower back, occasionally radiating down the right leg\\nExacerbated by prolonged sitting or standing, relieved by lying down\\nSeverity: 7/10 on average, worsening to 8/10 during flare-ups\\nNo associated numbness or tingling\\nImpact on Daily Activities:\\nDifficulty performing work duties due to prolonged sitting at a desk\\nLimited ability to participate in recreational activities, such as playing sports or gardening\\nStruggles with household chores, particularly activities that involve bending or lifting\\nTreatment History:\\nNonsteroidal anti-inflammatory drugs (NSAIDs) for pain management, with minimal relief\\nPhysical therapy sessions focusing on core strengthening exercises and flexibility, providing short-term improvement but limited long-term benefits\\nOccasional use of heat packs and over-the-counter topical analgesics for symptomatic relief\\nCurrent Medications:\\nAmlodipine 5 mg daily for hypertension\\nIbuprofen 400 mg as needed for back pain\\nAdditional Concerns:\\nRajesh is concerned about the impact of his back pain on his job performance and overall quality of life.\\nHe's interested in exploring alternative treatment options, such as acupuncture or chiropractic care.\\n \\n\\nMedical Context :  Ibuprofen is used to relieve pain from various conditions such as headache, dental pain, menstrual cramps, muscle aches, or arthritis. It is also used to reduce fever and to relieve minor aches and pain due to the common cold or flu. Ibuprofen is a nonsteroidal anti-inflammatory drug (NSAID). It works by blocking your body's production of certain natural substances that cause inflammation. This effect helps to decrease swelling, pain, or fever.If you are treating a chronic condition such as arthritis, ask your doctor about non-drug treatments and/or using other medications to treat your pain. See also Warning section.This form of ibuprofen is intended for use in children. Do not give this medication to a child younger than 2 years unless directed by the doctor.Check the ingredients on the label even if you have used the product before. The manufacturer may have changed the ingredients. Also, products with similar names may contain different ingredients meant for different purposes. Taking the wrong product could harm you.\\nAmlodipine is used alone or in combination with other medications to treat high blood pressure in adults and children 6 years and older. It is also used to treat certain types of angina (chest pain) and coronary artery disease (narrowing of the blood vessels that supply blood to the heart) \\n\\nTask:  I'm facing challenges in managing a case of chronic back pain in a patient. Despite thorough evaluation and treatment attempts, including physical therapy and medication, the pain persists. The patient experiences a constant dull ache localized to the lumbar region, limiting their mobility and affecting their quality of life. I'm seeking your expertise to explore alternative treatment strategies or diagnostic approaches that may offer relief.\"\n",
      "  ]\n",
      "}\n",
      "\u001b[36;1m\u001b[1;3m[llm/end]\u001b[0m \u001b[1m[1:chain:RunnableSequence > 3:llm:ChatGoogleGenerativeAI] [21.96s] Exiting LLM run with output:\n",
      "\u001b[0m{\n",
      "  \"generations\": [\n",
      "    [\n",
      "      {\n",
      "        \"text\": \"## Second Opinion and Treatment Plan for Rajesh Kumar\\n\\nBased on the provided information, Rajesh Kumar appears to be suffering from chronic lower back pain, potentially with radicular symptoms (pain radiating down the leg). While the initial management with NSAIDs and physical therapy is appropriate, the lack of significant improvement warrants further investigation and treatment modification.\\n\\n**Possible Causes and Differential Diagnoses:**\\n\\n* **Lumbar disc herniation or bulge:** This is a likely consideration given the radiating pain and history of heavy lifting. An MRI would be helpful to confirm the diagnosis and assess the severity of the herniation.\\n* **Lumbar spinal stenosis:** Narrowing of the spinal canal can compress nerves and cause similar symptoms. This is more common in older individuals but should be considered.\\n* **Facet joint syndrome:** Inflammation or degeneration of the facet joints can cause localized and radiating pain.\\n* **Sacroiliac joint dysfunction:** This can mimic lumbar pain and should be evaluated.\\n* **Myofascial pain syndrome:** Chronic muscle tension and trigger points can contribute to pain.\\n\\n**Treatment Plan Suggestions:**\\n\\n* **Advanced Imaging:**\\n    * **MRI Lumbar Spine:** To definitively diagnose the cause of pain, an MRI is crucial. This will help visualize disc herniations, stenosis, and other potential causes.\\n* **Medications:**\\n    * **Neuropathic pain medication:** Medications like gabapentin or pregabalin can be helpful for nerve-related pain.\\n    * **Muscle relaxants:**  May provide relief if muscle tension is a significant factor.\\n    * **Topical analgesics:**  Lidocaine patches or compounded creams can offer localized pain relief. \\n* **Interventional Procedures:**\\n    * **Epidural steroid injections:** Can provide temporary pain relief and reduce inflammation around nerve roots.\\n    * **Facet joint injections:** If facet joint syndrome is suspected, injections can help diagnose and treat the condition.\\n* **Complementary and Alternative Therapies:**\\n    * **Acupuncture:**  Rajesh expressed interest, and it may provide pain relief for some individuals.\\n    * **Chiropractic care:** Can help with musculoskeletal alignment and pain management, but ensure the chiropractor has experience with similar cases.\\n* **Physical Therapy:**\\n    * **Rehabilitation program:** A more intensive and targeted physical therapy program focusing on core stabilization, flexibility, and posture correction may be beneficial.\\n* **Psychological Evaluation:**\\n    * **Pain management program:** Addressing the psychological aspects of chronic pain can be crucial for long-term management.\\n\\n**Considerations related to Rajesh's history:**\\n\\n* **Previous lumbar strain:** This suggests a vulnerability in his lower back, making him more susceptible to future injuries and chronic pain.\\n* **Hypertension:** Some pain medications may interact with his blood pressure medication, requiring careful monitoring.\\n* **Occupational factors:** Prolonged sitting can exacerbate back pain. Ergonomic modifications to his workstation and encouraging regular breaks for movement are essential.\\n\\n**It is important to discuss these options with Rajesh and involve him in the decision-making process. A multidisciplinary approach, combining conventional and alternative therapies, may offer the best chance for pain relief and improved quality of life.** \\n\\n**Disclaimer:** Please remember, this information is for educational purposes only and should not be substituted for professional medical advice. Always consult with a qualified healthcare provider for diagnosis and treatment of any medical condition. \\n\",\n",
      "        \"generation_info\": {\n",
      "          \"finish_reason\": \"STOP\",\n",
      "          \"safety_ratings\": [\n",
      "            {\n",
      "              \"category\": \"HARM_CATEGORY_SEXUALLY_EXPLICIT\",\n",
      "              \"probability\": \"NEGLIGIBLE\",\n",
      "              \"blocked\": false\n",
      "            },\n",
      "            {\n",
      "              \"category\": \"HARM_CATEGORY_HATE_SPEECH\",\n",
      "              \"probability\": \"NEGLIGIBLE\",\n",
      "              \"blocked\": false\n",
      "            },\n",
      "            {\n",
      "              \"category\": \"HARM_CATEGORY_HARASSMENT\",\n",
      "              \"probability\": \"NEGLIGIBLE\",\n",
      "              \"blocked\": false\n",
      "            },\n",
      "            {\n",
      "              \"category\": \"HARM_CATEGORY_DANGEROUS_CONTENT\",\n",
      "              \"probability\": \"NEGLIGIBLE\",\n",
      "              \"blocked\": false\n",
      "            }\n",
      "          ]\n",
      "        },\n",
      "        \"type\": \"ChatGeneration\",\n",
      "        \"message\": {\n",
      "          \"lc\": 1,\n",
      "          \"type\": \"constructor\",\n",
      "          \"id\": [\n",
      "            \"langchain\",\n",
      "            \"schema\",\n",
      "            \"messages\",\n",
      "            \"AIMessage\"\n",
      "          ],\n",
      "          \"kwargs\": {\n",
      "            \"content\": \"## Second Opinion and Treatment Plan for Rajesh Kumar\\n\\nBased on the provided information, Rajesh Kumar appears to be suffering from chronic lower back pain, potentially with radicular symptoms (pain radiating down the leg). While the initial management with NSAIDs and physical therapy is appropriate, the lack of significant improvement warrants further investigation and treatment modification.\\n\\n**Possible Causes and Differential Diagnoses:**\\n\\n* **Lumbar disc herniation or bulge:** This is a likely consideration given the radiating pain and history of heavy lifting. An MRI would be helpful to confirm the diagnosis and assess the severity of the herniation.\\n* **Lumbar spinal stenosis:** Narrowing of the spinal canal can compress nerves and cause similar symptoms. This is more common in older individuals but should be considered.\\n* **Facet joint syndrome:** Inflammation or degeneration of the facet joints can cause localized and radiating pain.\\n* **Sacroiliac joint dysfunction:** This can mimic lumbar pain and should be evaluated.\\n* **Myofascial pain syndrome:** Chronic muscle tension and trigger points can contribute to pain.\\n\\n**Treatment Plan Suggestions:**\\n\\n* **Advanced Imaging:**\\n    * **MRI Lumbar Spine:** To definitively diagnose the cause of pain, an MRI is crucial. This will help visualize disc herniations, stenosis, and other potential causes.\\n* **Medications:**\\n    * **Neuropathic pain medication:** Medications like gabapentin or pregabalin can be helpful for nerve-related pain.\\n    * **Muscle relaxants:**  May provide relief if muscle tension is a significant factor.\\n    * **Topical analgesics:**  Lidocaine patches or compounded creams can offer localized pain relief. \\n* **Interventional Procedures:**\\n    * **Epidural steroid injections:** Can provide temporary pain relief and reduce inflammation around nerve roots.\\n    * **Facet joint injections:** If facet joint syndrome is suspected, injections can help diagnose and treat the condition.\\n* **Complementary and Alternative Therapies:**\\n    * **Acupuncture:**  Rajesh expressed interest, and it may provide pain relief for some individuals.\\n    * **Chiropractic care:** Can help with musculoskeletal alignment and pain management, but ensure the chiropractor has experience with similar cases.\\n* **Physical Therapy:**\\n    * **Rehabilitation program:** A more intensive and targeted physical therapy program focusing on core stabilization, flexibility, and posture correction may be beneficial.\\n* **Psychological Evaluation:**\\n    * **Pain management program:** Addressing the psychological aspects of chronic pain can be crucial for long-term management.\\n\\n**Considerations related to Rajesh's history:**\\n\\n* **Previous lumbar strain:** This suggests a vulnerability in his lower back, making him more susceptible to future injuries and chronic pain.\\n* **Hypertension:** Some pain medications may interact with his blood pressure medication, requiring careful monitoring.\\n* **Occupational factors:** Prolonged sitting can exacerbate back pain. Ergonomic modifications to his workstation and encouraging regular breaks for movement are essential.\\n\\n**It is important to discuss these options with Rajesh and involve him in the decision-making process. A multidisciplinary approach, combining conventional and alternative therapies, may offer the best chance for pain relief and improved quality of life.** \\n\\n**Disclaimer:** Please remember, this information is for educational purposes only and should not be substituted for professional medical advice. Always consult with a qualified healthcare provider for diagnosis and treatment of any medical condition. \\n\",\n",
      "            \"additional_kwargs\": {},\n",
      "            \"tool_calls\": [],\n",
      "            \"invalid_tool_calls\": []\n",
      "          }\n",
      "        }\n",
      "      }\n",
      "    ]\n",
      "  ],\n",
      "  \"llm_output\": {\n",
      "    \"prompt_feedback\": {\n",
      "      \"block_reason\": 0,\n",
      "      \"safety_ratings\": []\n",
      "    }\n",
      "  },\n",
      "  \"run\": null\n",
      "}\n",
      "\u001b[36;1m\u001b[1;3m[chain/end]\u001b[0m \u001b[1m[1:chain:RunnableSequence] [21.98s] Exiting Chain run with output:\n",
      "\u001b[0m[outputs]\n"
     ]
    },
    {
     "ename": "AttributeError",
     "evalue": "'AIMessage' object has no attribute 'replace'",
     "output_type": "error",
     "traceback": [
      "\u001b[1;31m---------------------------------------------------------------------------\u001b[0m",
      "\u001b[1;31mAttributeError\u001b[0m                            Traceback (most recent call last)",
      "Cell \u001b[1;32mIn[20], line 2\u001b[0m\n\u001b[0;32m      1\u001b[0m result \u001b[38;5;241m=\u001b[39m chain2\u001b[38;5;241m.\u001b[39minvoke({\u001b[38;5;124m\"\u001b[39m\u001b[38;5;124mcontext\u001b[39m\u001b[38;5;124m\"\u001b[39m:context , \u001b[38;5;124m\"\u001b[39m\u001b[38;5;124mpatientHistory\u001b[39m\u001b[38;5;124m\"\u001b[39m:patientHistory,\u001b[38;5;124m\"\u001b[39m\u001b[38;5;124mquestion\u001b[39m\u001b[38;5;124m\"\u001b[39m:question})\n\u001b[1;32m----> 2\u001b[0m \u001b[43mto_markdown\u001b[49m\u001b[43m(\u001b[49m\u001b[43mresult\u001b[49m\u001b[43m)\u001b[49m\n",
      "Cell \u001b[1;32mIn[16], line 15\u001b[0m, in \u001b[0;36mto_markdown\u001b[1;34m(text)\u001b[0m\n\u001b[0;32m     14\u001b[0m \u001b[38;5;28;01mdef\u001b[39;00m \u001b[38;5;21mto_markdown\u001b[39m(text):\n\u001b[1;32m---> 15\u001b[0m   text \u001b[38;5;241m=\u001b[39m \u001b[43mtext\u001b[49m\u001b[38;5;241;43m.\u001b[39;49m\u001b[43mreplace\u001b[49m(\u001b[38;5;124m'\u001b[39m\u001b[38;5;124m•\u001b[39m\u001b[38;5;124m'\u001b[39m, \u001b[38;5;124m'\u001b[39m\u001b[38;5;124m  *\u001b[39m\u001b[38;5;124m'\u001b[39m)\n\u001b[0;32m     16\u001b[0m   \u001b[38;5;28;01mreturn\u001b[39;00m Markdown(textwrap\u001b[38;5;241m.\u001b[39mindent(text, \u001b[38;5;124m'\u001b[39m\u001b[38;5;124m> \u001b[39m\u001b[38;5;124m'\u001b[39m, predicate\u001b[38;5;241m=\u001b[39m\u001b[38;5;28;01mlambda\u001b[39;00m _: \u001b[38;5;28;01mTrue\u001b[39;00m))\n",
      "\u001b[1;31mAttributeError\u001b[0m: 'AIMessage' object has no attribute 'replace'"
     ]
    }
   ],
   "source": [
    "result = chain2.invoke({\"context\":context , \"patientHistory\":patientHistory,\"question\":question})\n",
    "to_markdown(result)"
   ]
  },
  {
   "cell_type": "code",
   "execution_count": null,
   "id": "d6d18d9e-239e-4ca8-8fc5-f0ed6a68c7f5",
   "metadata": {},
   "outputs": [],
   "source": [
    "to_markdown(result.content)"
   ]
  },
  {
   "cell_type": "code",
   "execution_count": null,
   "id": "595ea671-1895-4029-8e5a-15d4b4fd4792",
   "metadata": {},
   "outputs": [],
   "source": [
    "#Query Construction\n",
    "def generate_queries(model,prompt, num_queries):\n",
    "  query_generation_prompt = ChatPromptTemplate.from_template(\"Given the prompt: '{prompt}', generate {num_queries} questions that are better articulated. Return in the form of an list. For example: ['question 1', 'question 2', 'question 3']\")\n",
    "  query_generation_chain = query_generation_prompt | model\n",
    "  return str_to_json(query_generation_chain.invoke({\"prompt\": prompt, \"num_queries\": num_queries}).content)"
   ]
  },
  {
   "cell_type": "code",
   "execution_count": null,
   "id": "46a6b5db-8a1f-4fc8-a003-39c99ae81c04",
   "metadata": {},
   "outputs": [],
   "source": [
    "def evaluate_with_llm(model, prompt, generated_text):\n",
    "    evaluations = {}\n",
    "\n",
    "    # Template for creating evaluation queries\n",
    "    def create_evaluation_query(template, **kwargs):\n",
    "        query = ChatPromptTemplate.from_template(template)\n",
    "        chain = query | model\n",
    "        return float(chain.invoke(kwargs).content)\n",
    "\n",
    "    # Evaluate Relevance\n",
    "    relevance_template = \"Given the context provided by the following prompt: '{prompt}', please evaluate on a scale from 0 to 1, where 1 is highly relevant and 0 is not relevant at all, how relevant is this generated response: '{generated_text}'? Provide a numerical score only.\"\n",
    "    evaluations['relevance'] = create_evaluation_query(relevance_template, prompt=prompt, generated_text=generated_text)\n",
    "\n",
    "    # Evaluate Clarity\n",
    "    clarity_template = \"How clear and easily understandable is this text: '{generated_text}'? Rate its clarity on a scale from 0 to 1, where 1 indicates that the text is very clear and 0 indicates that the text is very unclear. Provide a numerical score only.\"\n",
    "    evaluations['clarity'] = create_evaluation_query(clarity_template, prompt=prompt, generated_text=generated_text)\n",
    "\n",
    "    # Evaluate Coherence\n",
    "    coherence_template = \"On a scale from 0 to 1, with 1 being highly coherent and 0 being not coherent at all, how well do the ideas in this generated text: '{generated_text}' flow together? Consider if the text makes logical sense as a whole. Provide a numerical score only.\"\n",
    "    evaluations['coherence'] = create_evaluation_query(coherence_template, prompt=prompt, generated_text=generated_text)\n",
    "\n",
    "    # Evaluate Detail and Exhaustiveness\n",
    "    detail_template = \"Assessing the detail and exhaustiveness relative to the prompt '{prompt}', how thoroughly does this generated text: '{generated_text}' cover the topic? Rate on a scale from 0 to 1, where 1 is very detailed and exhaustive, and 0 is not detailed at all. Provide a numerical score only.\"\n",
    "    evaluations['details'] = create_evaluation_query(detail_template, prompt=prompt, generated_text=generated_text)\n",
    "\n",
    "    # Evaluate Suitability as an Answer\n",
    "    suitability_template = \"Evaluate the suitability of this generated text: '{generated_text}' as an answer to the original prompt '{prompt}'. On a scale from 0 to 1, where 1 is a perfect answer and 0 is completely unsuitable, provide a numerical score only.\"\n",
    "    evaluations['suitability'] = create_evaluation_query(suitability_template, prompt=prompt, generated_text=generated_text)\n",
    "\n",
    "    return evaluations"
   ]
  },
  {
   "cell_type": "code",
   "execution_count": null,
   "id": "8b7720ca-83b8-454e-996b-0b2dd42f6bff",
   "metadata": {},
   "outputs": [],
   "source": [
    "def critique(model, prompt, generated_text):\n",
    "    evaluation_weights = {\n",
    "        'relevance': 3,  \n",
    "        'clarity': 1,\n",
    "        'coherence': 0.5,\n",
    "        'details': 1.5,\n",
    "        'suitability': 2  \n",
    "    }\n",
    "    \n",
    "    evaluations = evaluate_with_llm(model, prompt, generated_text)\n",
    "    print(\"Evaluations:\", evaluations)\n",
    "    \n",
    "    # Calculate the weighted sum of the evaluations\n",
    "    weighted_sum = sum(evaluations[aspect] * evaluation_weights.get(aspect, 1) for aspect in evaluations)\n",
    "    \n",
    "    # Calculate the sum of weights for the aspects evaluated\n",
    "    total_weight = sum(evaluation_weights.get(aspect, 1) for aspect in evaluations)\n",
    "    \n",
    "    # Calculate the weighted average of the evaluations\n",
    "    weighted_average = weighted_sum / total_weight if total_weight > 0 else 0\n",
    "    \n",
    "    return [weighted_average, evaluations]"
   ]
  },
  {
   "cell_type": "code",
   "execution_count": null,
   "id": "cf2cf619-7afa-4b28-b1fa-814ec73c7ff4",
   "metadata": {},
   "outputs": [],
   "source": [
    "import cohere\n",
    "from langchain_community.utilities import SerpAPIWrapper\n",
    "co = cohere.Client(os.environ[\"COHERE_API_KEY\"])\n",
    "\n",
    "\n",
    "def get_reranked_result(query, top_n=1):\n",
    "  matches = kb.query([Query(text=query)])\n",
    "  docs = extract_documents_texts(matches)\n",
    "  rerank_results = co.rerank(model=\"rerank-english-v2.0\", query=query, documents=docs, top_n=top_n)\n",
    "  texts = []\n",
    "  for rerank_result in rerank_results:\n",
    "      # Accessing the 'text' field in the document attribute of each RerankResult\n",
    "      text = rerank_result.document['text']\n",
    "      texts.append(text)\n",
    "  return texts"
   ]
  },
  {
   "cell_type": "code",
   "execution_count": null,
   "id": "b017e563-abfc-4148-9fb6-fff778ce3a4b",
   "metadata": {},
   "outputs": [],
   "source": [
    "from typing import List, Dict, Any, Tuple\n",
    "from collections import defaultdict\n",
    "\n",
    "class QueryDetail:\n",
    "    def __init__(self, query: str):\n",
    "        self.query = query\n",
    "        self.content: List[str] = []\n",
    "        self.critique_score: float = 0.0\n",
    "        self.critique_details: Dict[str, Any] = {}\n",
    "        self.retrieval_needed: bool = False\n",
    "        self.search_needed: bool = False\n",
    "\n",
    "    def add_response(self, model, search) -> None:\n",
    "        \"\"\"Process the query to add response, handle retrieval and critique.\"\"\"\n",
    "        if is_retrieval_needed(model, self.query):\n",
    "            response = \" \".join(get_reranked_result(self.query, top_n=3))\n",
    "            self.retrieval_needed = True\n",
    "        else:\n",
    "            response = \"Some generated answer\"\n",
    "            self.retrieval_needed = False\n",
    "        \n",
    "        self.content.append(response)\n",
    "        \n",
    "        critique_score, critique_details = critique(model, self.query, response)\n",
    "        self.critique_score = critique_score\n",
    "        self.critique_details = critique_details\n",
    "        self.search_needed = critique_score < 0.5\n",
    "\n",
    "        if self.search_needed:\n",
    "            self.search_and_add_results(search)\n",
    "\n",
    "    def search_and_add_results(self, search) -> None:\n",
    "        \"\"\"Perform a search and process the results if critique score is low.\"\"\"\n",
    "        search_result_raw = search.run(self.query)\n",
    "        search_result = str_to_json(search_result_raw) or []\n",
    "        self.content.extend(search_result)\n",
    "\n",
    "class QueryProcessor:\n",
    "    def __init__(self, model, search, queries: List[str]):\n",
    "        self.model = model\n",
    "        self.search = search\n",
    "        self.queries = [QueryDetail(query) for query in queries]\n",
    "\n",
    "    def process_queries(self) -> List[QueryDetail]:\n",
    "        \"\"\"Process each query in the list.\"\"\"\n",
    "        for query_detail in self.queries:\n",
    "            query_detail.add_response(self.model, self.search)\n",
    "            if query_detail.search_needed:\n",
    "                consolidated_response = consolidate(self.model, query_detail.content)\n",
    "                query_detail.content = [consolidated_response]\n",
    "                critique_score, critique_details = critique(self.model, query_detail.query, consolidated_response)\n",
    "                query_detail.critique_score = critique_score\n",
    "                query_detail.critique_details = critique_details\n",
    "        return self.queries\n",
    "\n",
    "def advanced_rag_query(model, query: str, num_queries: int) -> List[QueryDetail]:\n",
    "    search = SerpAPIWrapper()\n",
    "    initial_queries = generate_queries(model, query, num_queries)[:num_queries]\n",
    "    query_processor = QueryProcessor(model, search, initial_queries)\n",
    "    processed_queries = query_processor.process_queries()\n",
    "    return processed_queries"
   ]
  },
  {
   "cell_type": "code",
   "execution_count": null,
   "id": "ab292676-6c59-4584-9279-79fd074dc523",
   "metadata": {},
   "outputs": [],
   "source": []
  }
 ],
 "metadata": {
  "kernelspec": {
   "display_name": "Python 3 (ipykernel)",
   "language": "python",
   "name": "python3"
  },
  "language_info": {
   "codemirror_mode": {
    "name": "ipython",
    "version": 3
   },
   "file_extension": ".py",
   "mimetype": "text/x-python",
   "name": "python",
   "nbconvert_exporter": "python",
   "pygments_lexer": "ipython3",
   "version": "3.11.4"
  }
 },
 "nbformat": 4,
 "nbformat_minor": 5
}
